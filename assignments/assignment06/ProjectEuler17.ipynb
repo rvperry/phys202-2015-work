{
 "cells": [
  {
   "cell_type": "markdown",
   "metadata": {
    "nbgrader": {}
   },
   "source": [
    "# Project Euler: Problem 17"
   ]
  },
  {
   "cell_type": "markdown",
   "metadata": {
    "nbgrader": {}
   },
   "source": [
    "https://projecteuler.net/problem=17\n",
    "\n",
    "If the numbers 1 to 5 are written out in words: one, two, three, four, five, then there are 3 + 3 + 5 + 4 + 4 = 19 letters used in total.\n",
    "\n",
    "If all the numbers from 1 to 1000 (one thousand) inclusive were written out in words, how many letters would be used?\n",
    "\n",
    "\n",
    "NOTE: Do not count spaces or hyphens. For example, 342 (three hundred and forty-two) contains 23 letters and 115 (one hundred and fifteen) contains 20 letters. The use of \"and\" when writing out numbers is in compliance with British usage."
   ]
  },
  {
   "cell_type": "markdown",
   "metadata": {
    "nbgrader": {}
   },
   "source": [
    "First write a `number_to_words(n)` function that takes an integer `n` between 1 and 1000 inclusive and returns a list of words for the number as described above"
   ]
  },
  {
   "cell_type": "code",
   "execution_count": 44,
   "metadata": {
    "collapsed": false,
    "nbgrader": {
     "checksum": "790b69a83b63d5a31b5fac1451dd3b54",
     "solution": true
    }
   },
   "outputs": [],
   "source": [
    "def number_to_words(n):\n",
    "    \"\"\"Given a number n between 1-1000 inclusive return a list of words for the number.\"\"\"\n",
    "    s=['','one','two','three','four','five','six','seven','eight','nine']\n",
    "    ten=['ten','eleven','twelve','thirteen','fourteen','fifteen','sixteen','seventeen','eighteen','nineteen']\n",
    "    ty=['twenty','thirty','forty','fifty','sixty','seventy','eighty','ninety']\n",
    "\n",
    "    if n in range(1,10):\n",
    "        return s[n]\n",
    "    elif n in range(10,20):\n",
    "        return ten[n-10]\n",
    "    elif n in range(20,100):\n",
    "        a=str(n)\n",
    "        o=int(a[1])\n",
    "        t=int(a[0])\n",
    "        return ty[t-2]+ s[o]\n",
    "    elif n in range(100,1000):\n",
    "        a=str(n)\n",
    "        o=int(a[2])\n",
    "        t=int(a[1])\n",
    "        h=int(a[0])\n",
    "        if t==0:\n",
    "            if o==0:\n",
    "                return s[h]+'hundred'\n",
    "            else:\n",
    "                return s[h]+'hundredand'+s[o]\n",
    "        elif t==1:\n",
    "            return s[h]+'hundredand'+ten[o]\n",
    "        else:\n",
    "            return s[h]+'hundredand'+ty[t-2]+s[o]\n",
    "    elif n==1000:\n",
    "        return 'onethousand'"
   ]
  },
  {
   "cell_type": "markdown",
   "metadata": {
    "nbgrader": {}
   },
   "source": [
    "Now write a set of `assert` tests for your `number_to_words` function that verifies that it is working as expected."
   ]
  },
  {
   "cell_type": "code",
   "execution_count": 45,
   "metadata": {
    "collapsed": false,
    "deletable": false,
    "nbgrader": {
     "checksum": "6cff4e8e53b15273846c3aecaea84a3d",
     "solution": true
    }
   },
   "outputs": [],
   "source": [
    "assert number_to_words(1)=='one'\n",
    "assert number_to_words(13)=='thirteen'\n",
    "assert number_to_words(22)=='twentytwo'\n",
    "assert number_to_words(100)=='onehundred'\n",
    "assert number_to_words(205)=='twohundredandfive'\n",
    "assert number_to_words(345)=='threehundredandfortyfive'\n",
    "assert number_to_words(1000)=='onethousand'"
   ]
  },
  {
   "cell_type": "code",
   "execution_count": null,
   "metadata": {
    "collapsed": true,
    "deletable": false,
    "nbgrader": {
     "checksum": "2c71c0f9dbe2a57b1ddc17bf544d86ed",
     "grade": true,
     "grade_id": "projecteuler17a",
     "points": 4
    }
   },
   "outputs": [],
   "source": [
    "assert True # use this for grading the number_to_words tests."
   ]
  },
  {
   "cell_type": "markdown",
   "metadata": {
    "nbgrader": {}
   },
   "source": [
    "Now define a `count_letters(n)` that returns the number of letters used to write out the words for all of the the numbers `1` to `n` inclusive."
   ]
  },
  {
   "cell_type": "code",
   "execution_count": 46,
   "metadata": {
    "collapsed": true,
    "nbgrader": {
     "checksum": "be228a805b41eda2b30887a53523f76b",
     "solution": true
    }
   },
   "outputs": [],
   "source": [
    "def count_letters(n):\n",
    "    \"\"\"Count the number of letters used to write out the words for 1-n inclusive.\"\"\"\n",
    "    return len(number_to_words(n))\n",
    "    raise NotImplementedError()"
   ]
  },
  {
   "cell_type": "markdown",
   "metadata": {
    "nbgrader": {}
   },
   "source": [
    "Now write a set of `assert` tests for your `count_letters` function that verifies that it is working as expected."
   ]
  },
  {
   "cell_type": "code",
   "execution_count": 49,
   "metadata": {
    "collapsed": false,
    "deletable": false,
    "nbgrader": {
     "checksum": "6cff4e8e53b15273846c3aecaea84a3d",
     "solution": true
    }
   },
   "outputs": [],
   "source": [
    "assert count_letters(2)==3\n",
    "assert count_letters(15)==7\n",
    "assert count_letters(22)==9\n",
    "assert count_letters(100)==10\n",
    "assert count_letters(222)==22"
   ]
  },
  {
   "cell_type": "code",
   "execution_count": null,
   "metadata": {
    "collapsed": true,
    "deletable": false,
    "nbgrader": {
     "checksum": "3a06c9610681f0174008f2976e310e0a",
     "grade": true,
     "grade_id": "projecteuler17b",
     "points": 4
    }
   },
   "outputs": [],
   "source": [
    "assert True # use this for grading the count_letters tests."
   ]
  },
  {
   "cell_type": "markdown",
   "metadata": {
    "nbgrader": {}
   },
   "source": [
    "Finally used your `count_letters` function to solve the original question."
   ]
  },
  {
   "cell_type": "code",
   "execution_count": 48,
   "metadata": {
    "collapsed": false,
    "deletable": false,
    "nbgrader": {
     "checksum": "6cff4e8e53b15273846c3aecaea84a3d",
     "solution": true
    }
   },
   "outputs": [
    {
     "name": "stdout",
     "output_type": "stream",
     "text": [
      "21124\n"
     ]
    }
   ],
   "source": [
    "T=0\n",
    "for n in range(1,1001):\n",
    "    T+=count_letters(n)\n",
    "print(T)"
   ]
  },
  {
   "cell_type": "code",
   "execution_count": null,
   "metadata": {
    "collapsed": true,
    "deletable": false,
    "nbgrader": {
     "checksum": "a136658e13c4f1154caf307a2e852f99",
     "grade": true,
     "grade_id": "projecteuler17c",
     "points": 2
    }
   },
   "outputs": [],
   "source": [
    "assert True # use this for gradig the answer to the original question."
   ]
  }
 ],
 "metadata": {
  "kernelspec": {
   "display_name": "Python 3",
   "language": "python",
   "name": "python3"
  },
  "language_info": {
   "codemirror_mode": {
    "name": "ipython",
    "version": 3
   },
   "file_extension": ".py",
   "mimetype": "text/x-python",
   "name": "python",
   "nbconvert_exporter": "python",
   "pygments_lexer": "ipython3",
   "version": "3.4.0"
  }
 },
 "nbformat": 4,
 "nbformat_minor": 0
}
