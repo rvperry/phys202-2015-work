{
 "cells": [
  {
   "cell_type": "markdown",
   "metadata": {
    "nbgrader": {}
   },
   "source": [
    "# Interact Exercise 6"
   ]
  },
  {
   "cell_type": "markdown",
   "metadata": {
    "nbgrader": {}
   },
   "source": [
    "## Imports"
   ]
  },
  {
   "cell_type": "markdown",
   "metadata": {
    "nbgrader": {}
   },
   "source": [
    "Put the standard imports for Matplotlib, Numpy and the IPython widgets in the following cell."
   ]
  },
  {
   "cell_type": "code",
   "execution_count": 1,
   "metadata": {
    "collapsed": true,
    "nbgrader": {}
   },
   "outputs": [],
   "source": [
    "%matplotlib inline\n",
    "import matplotlib.pyplot as plt\n",
    "import numpy as np"
   ]
  },
  {
   "cell_type": "code",
   "execution_count": 2,
   "metadata": {
    "collapsed": false,
    "nbgrader": {
     "solution": false
    }
   },
   "outputs": [
    {
     "name": "stderr",
     "output_type": "stream",
     "text": [
      ":0: FutureWarning: IPython widgets are experimental and may change in the future.\n"
     ]
    }
   ],
   "source": [
    "from IPython.display import Image\n",
    "from IPython.html.widgets import interact, interactive, fixed"
   ]
  },
  {
   "cell_type": "markdown",
   "metadata": {
    "nbgrader": {}
   },
   "source": [
    "## Exploring the Fermi distribution"
   ]
  },
  {
   "cell_type": "markdown",
   "metadata": {
    "nbgrader": {}
   },
   "source": [
    "In quantum statistics, the [Fermi-Dirac](http://en.wikipedia.org/wiki/Fermi%E2%80%93Dirac_statistics) distribution is related to the probability that a particle will be in a quantum state with energy $\\epsilon$. The equation for the distribution $F(\\epsilon)$ is:"
   ]
  },
  {
   "cell_type": "code",
   "execution_count": 3,
   "metadata": {
    "collapsed": false,
    "nbgrader": {}
   },
   "outputs": [
    {
     "data": {
      "image/png": "[encoded data removed]",
      "text/plain": [
       "<IPython.core.display.Image object>"
      ]
     },
     "execution_count": 3,
     "metadata": {},
     "output_type": "execute_result"
    }
   ],
   "source": [
    "Image('fermidist.png')"
   ]
  },
  {
   "cell_type": "markdown",
   "metadata": {
    "nbgrader": {}
   },
   "source": [
    "In this equation:\n",
    "\n",
    "* $\\epsilon$ is the single particle energy.\n",
    "* $\\mu$ is the chemical potential, which is related to the total number of particles.\n",
    "* $k$ is the Boltzmann constant.\n",
    "* $T$ is the temperature in Kelvin.\n",
    "\n",
    "In the cell below, typeset this equation using LaTeX:"
   ]
  },
  {
   "cell_type": "markdown",
   "metadata": {
    "deletable": false,
    "nbgrader": {
     "checksum": "84e504c96c29f1c60dbfb4dec13d68a5",
     "grade": true,
     "grade_id": "interactex06a",
     "points": 2,
     "solution": true
    }
   },
   "source": [
    "$$\\begin{align}\n",
    "F(\\epsilon)=\\frac1{e^{(\\epsilon-\\mu)/kT}+1}\n",
    "\\end{align}$$"
   ]
  },
  {
   "cell_type": "markdown",
   "metadata": {
    "nbgrader": {}
   },
   "source": [
    "Define a function `fermidist(energy, mu, kT)` that computes the distribution function for a given value of `energy`, chemical potential `mu` and temperature `kT`. Note here, `kT` is a single variable with units of energy. Make sure your function works with an array and don't use any `for` or `while` loops in your code."
   ]
  },
  {
   "cell_type": "code",
   "execution_count": 8,
   "metadata": {
    "collapsed": true,
    "nbgrader": {
     "checksum": "bf335dcbe5278484f0ab3de031cb74a5",
     "solution": true
    }
   },
   "outputs": [],
   "source": [
    "def fermidist(energy, mu, kT):\n",
    "    \"\"\"Compute the Fermi distribution at energy, mu and kT.\"\"\"\n",
    "    F=1/(np.exp((energy-mu)/kT)+1)\n",
    "    return F\n",
    "    raise NotImplementedError()"
   ]
  },
  {
   "cell_type": "code",
   "execution_count": 9,
   "metadata": {
    "collapsed": false,
    "deletable": false,
    "nbgrader": {
     "checksum": "fe62c9137b7ea0acba5b933bcd7c3226",
     "grade": true,
     "grade_id": "interactex06b",
     "points": 2
    }
   },
   "outputs": [],
   "source": [
    "assert np.allclose(fermidist(0.5, 1.0, 10.0), 0.51249739648421033)\n",
    "assert np.allclose(fermidist(np.linspace(0.0,1.0,10), 1.0, 10.0),\n",
    "    np.array([ 0.52497919,  0.5222076 ,  0.51943465,  0.5166605 ,  0.51388532,\n",
    "               0.51110928,  0.50833256,  0.50555533,  0.50277775,  0.5       ]))"
   ]
  },
  {
   "cell_type": "markdown",
   "metadata": {
    "nbgrader": {}
   },
   "source": [
    "Write a function `plot_fermidist(mu, kT)` that plots the Fermi distribution $F(\\epsilon)$ as a function of $\\epsilon$ as a line plot for the parameters `mu` and `kT`.\n",
    "\n",
    "* Use enegies over the range $[0,10.0]$ and a suitable number of points.\n",
    "* Choose an appropriate x and y limit for your visualization.\n",
    "* Label your x and y axis and the overall visualization.\n",
    "* Customize your plot in 3 other ways to make it effective and beautiful."
   ]
  },
  {
   "cell_type": "code",
   "execution_count": 48,
   "metadata": {
    "collapsed": false,
    "nbgrader": {
     "checksum": "6613c80574ecbd6eac3fb18ec6e29798",
     "solution": true
    }
   },
   "outputs": [],
   "source": [
    "def plot_fermidist(mu, kT):\n",
    "    energy=np.arange(10.0)\n",
    "    y=fermidist(energy,mu,kT)\n",
    "    plt.plot(energy, y)\n",
    "    plt.xlabel('Energy,$\\epsilon(J)$')\n",
    "    plt.ylabel('Probability')\n",
    "    plt.title('Fermi-Dirac Distribution')\n",
    "    plt.ylim(0,1)\n",
    "    plt.xlim(0,10)"
   ]
  },
  {
   "cell_type": "code",
   "execution_count": 49,
   "metadata": {
    "collapsed": false,
    "nbgrader": {}
   },
   "outputs": [
    {
     "data": {
      "image/png": "[encoded data removed]",
      "text/plain": [
       "<matplotlib.figure.Figure at 0x7f10929817f0>"
      ]
     },
     "metadata": {},
     "output_type": "display_data"
    }
   ],
   "source": [
    "plot_fermidist(4.0, 1.0)"
   ]
  },
  {
   "cell_type": "code",
   "execution_count": null,
   "metadata": {
    "collapsed": true,
    "deletable": false,
    "nbgrader": {
     "checksum": "431fd4e3772f241938f69a76371092f9",
     "grade": true,
     "grade_id": "interactex06c",
     "points": 4
    }
   },
   "outputs": [],
   "source": [
    "assert True # leave this for grading the plot_fermidist function"
   ]
  },
  {
   "cell_type": "markdown",
   "metadata": {
    "nbgrader": {}
   },
   "source": [
    "Use `interact` with `plot_fermidist` to explore the distribution:\n",
    "\n",
    "* For `mu` use a floating point slider over the range $[0.0,5.0]$.\n",
    "* for `kT` use a floating point slider over the range $[0.1,10.0]$."
   ]
  },
  {
   "cell_type": "code",
   "execution_count": 50,
   "metadata": {
    "collapsed": false,
    "deletable": false,
    "nbgrader": {
     "checksum": "6cff4e8e53b15273846c3aecaea84a3d",
     "solution": true
    }
   },
   "outputs": [
    {
     "data": {
      "image/png": "[encoded data removed]",
      "text/plain": [
       "<matplotlib.figure.Figure at 0x7f10925e5c50>"
      ]
     },
     "metadata": {},
     "output_type": "display_data"
    }
   ],
   "source": [
    "interact(plot_fermidist,mu=(0,5.0),kT=(.1,10.0))\n"
   ]
  },
  {
   "cell_type": "markdown",
   "metadata": {
    "nbgrader": {}
   },
   "source": [
    "Provide complete sentence answers to the following questions in the cell below:\n",
    "\n",
    "* What happens when the temperature $kT$ is low?\n",
    "* What happens when the temperature $kT$ is high?\n",
    "* What is the effect of changing the chemical potential $\\mu$?\n",
    "* The number of particles in the system are related to the area under this curve. How does the chemical potential affect the number of particles.\n",
    "\n",
    "Use LaTeX to typeset any mathematical symbols in your answer."
   ]
  },
  {
   "cell_type": "markdown",
   "metadata": {
    "deletable": false,
    "nbgrader": {
     "checksum": "e2d2eda45d934db7a4dc1cef97eebbcc",
     "grade": true,
     "grade_id": "interactex06d",
     "points": 2,
     "solution": true
    }
   },
   "source": [
    "When the temperature kT is low the probability of the energy being close to zero increases and the probability density falls rapidly as energy increases.\n",
    "When kT is high the probability density becomes more evenly distributed among the energy levels.\n",
    "Changing the chemical potential $\\mu$ shifts the distribution up "
   ]
  }
 ],
 "metadata": {
  "kernelspec": {
   "display_name": "Python 3",
   "language": "python",
   "name": "python3"
  },
  "language_info": {
   "codemirror_mode": {
    "name": "ipython",
    "version": 3
   },
   "file_extension": ".py",
   "mimetype": "text/x-python",
   "name": "python",
   "nbconvert_exporter": "python",
   "pygments_lexer": "ipython3",
   "version": "3.4.0"
  }
 },
 "nbformat": 4,
 "nbformat_minor": 0
}
